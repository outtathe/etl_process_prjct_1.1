{
  "nbformat": 4,
  "nbformat_minor": 0,
  "metadata": {
    "colab": {
      "provenance": []
    },
    "kernelspec": {
      "name": "python3",
      "display_name": "Python 3"
    },
    "language_info": {
      "name": "python"
    }
  },
  "cells": [
    {
      "cell_type": "code",
      "execution_count": null,
      "metadata": {
        "id": "lgFMjhOxqLfA"
      },
      "outputs": [],
      "source": [
        "!pip install pyspark"
      ]
    },
    {
      "cell_type": "code",
      "source": [
        "!apt-get install openjdk-8-jdk-headless -qq > /dev/null"
      ],
      "metadata": {
        "id": "u79OJ7jWqPDQ"
      },
      "execution_count": null,
      "outputs": []
    },
    {
      "cell_type": "code",
      "source": [
        "!wget -q https://dlcdn.apache.org/spark/spark-3.4.1/spark-3.4.1-bin-hadoop3.tgz"
      ],
      "metadata": {
        "id": "DS-lreYiqR45"
      },
      "execution_count": null,
      "outputs": []
    },
    {
      "cell_type": "code",
      "source": [
        "!tar xvzf spark-3.4.1-bin-hadoop3.tgz"
      ],
      "metadata": {
        "id": "gKMN0kcYqT_a"
      },
      "execution_count": null,
      "outputs": []
    },
    {
      "cell_type": "code",
      "source": [
        "import os\n",
        "os.environ[\"JAVA_HOME\"] = \"/usr/lib/jvm/java-8-openjdk-amd64\"\n",
        "os.environ[\"SPARK_HOME\"] = \"/content/spark-3.4.1-bin-hadoop3\""
      ],
      "metadata": {
        "id": "0k4Up302qWCH"
      },
      "execution_count": null,
      "outputs": []
    },
    {
      "cell_type": "code",
      "source": [
        "!pip install findspark"
      ],
      "metadata": {
        "id": "SoQWrPJ9qX5b"
      },
      "execution_count": null,
      "outputs": []
    },
    {
      "cell_type": "code",
      "source": [
        "!echo $SPARK_HOME"
      ],
      "metadata": {
        "id": "MB22A1DuqZv6"
      },
      "execution_count": null,
      "outputs": []
    },
    {
      "cell_type": "code",
      "source": [
        "import findspark\n",
        "import os\n",
        "import pyspark\n",
        "from pyspark.sql import SparkSession\n",
        "from pyspark import SparkConf\n",
        "from pyspark import  SparkContext\n",
        "from pyspark.sql import functions as f\n",
        "appName = \"PySpark Task 1\"\n",
        "#master = \"spark://10.3.100.4:7077\"\n",
        "master = 'local[*]'\n",
        "# Create Spark session with Hive supported.\n",
        "spark = SparkSession.builder \\\n",
        "    .enableHiveSupport() \\\n",
        "    .appName(appName) \\\n",
        "    .getOrCreate()"
      ],
      "metadata": {
        "id": "eqcKYubqqejo"
      },
      "execution_count": null,
      "outputs": []
    },
    {
      "cell_type": "code",
      "source": [
        "df_emp = spark.read.json(\"/content/sample_data/anscombe.json\")\n",
        "df_emp.show(5,False)"
      ],
      "metadata": {
        "id": "__D70vWoqgZQ"
      },
      "execution_count": null,
      "outputs": []
    },
    {
      "cell_type": "code",
      "source": [
        "from pyspark.sql import Row\n",
        "\n",
        "spark = SparkSession.builder.appName(\"OlympicDisciplines\").getOrCreate()\n",
        "\n",
        "data = [\n",
        "    Row(row_id=1, discipline=\"Athletics\", season=\"summer\"),\n",
        "    Row(row_id=2, discipline=\"Swimming\", season=\"summer\"),\n",
        "    Row(row_id=3, discipline=\"Gymnastics\", season=\"summer\"),\n",
        "    Row(row_id=4, discipline=\"Skiing\", season=\"winter\"),\n",
        "    Row(row_id=5, discipline=\"Hockey\", season=\"winter\"),\n",
        "    Row(row_id=6, discipline=\"Cycling\", season=\"summer\"),\n",
        "    Row(row_id=7, discipline=\"Figure_skating\", season=\"winter\"),\n",
        "    Row(row_id=8, discipline=\"Rowing\", season=\"summer\"),\n",
        "    Row(row_id=9, discipline=\"Biathlon\", season=\"winter\"),\n",
        "    Row(row_id=10, discipline=\"Basketball\", season=\"summer\"),\n",
        "]\n",
        "\n",
        "df = spark.createDataFrame(data)\n",
        "\n",
        "df.coalesce(1).write.option(\"header\", \"true\").option(\"delimiter\", \"\\t\").csv(\"/content/1olympic_disciplines.csv\")\n",
        "\n",
        "spark.stop()"
      ],
      "metadata": {
        "id": "nmRPPFOQyx6r"
      },
      "execution_count": null,
      "outputs": []
    },
    {
      "cell_type": "code",
      "source": [
        "#проверка\n",
        "spark = SparkSession.builder.appName(\"OlympicDisciplines\").getOrCreate()\n",
        "df = spark.read.option(\"delimiter\", \"\\t\").option(\"encoding\", \"UTF-8\").option(\"header\", \"true\").csv(\"/content/1olympic_disciplines.csv\")\n",
        "df.show()"
      ],
      "metadata": {
        "id": "yAC1ZjnrzNfE",
        "colab": {
          "base_uri": "https://localhost:8080/"
        },
        "outputId": "b35edfc9-6b56-47f0-b61a-b5073740bcac"
      },
      "execution_count": null,
      "outputs": [
        {
          "output_type": "stream",
          "name": "stdout",
          "text": [
            "+------+--------------+------+\n",
            "|row_id|    discipline|season|\n",
            "+------+--------------+------+\n",
            "|     1|     Athletics|summer|\n",
            "|     2|      Swimming|summer|\n",
            "|     3|    Gymnastics|summer|\n",
            "|     4|        Skiing|winter|\n",
            "|     5|        Hockey|winter|\n",
            "|     6|       Cycling|summer|\n",
            "|     7|Figure_skating|winter|\n",
            "|     8|        Rowing|summer|\n",
            "|     9|      Biathlon|winter|\n",
            "|    10|    Basketball|summer|\n",
            "+------+--------------+------+\n",
            "\n"
          ]
        }
      ]
    },
    {
      "cell_type": "code",
      "source": [
        "from pyspark.sql.functions import count\n",
        "\n",
        "spark = SparkSession.builder.appName(\"AthletesAnalysis\").getOrCreate()\n",
        "\n",
        "df = spark.read.option(\"delimiter\", \";\").option(\"encoding\", \"UTF-8\").option(\"header\", \"true\").csv(\"/content/Athletes.csv\")\n",
        "\n",
        "result = df.groupBy(\"Discipline\").agg(count(\"*\").alias(\"TotalAthletes\"))\n",
        "\n",
        "result.write.format(\"parquet\").save(\"/content/athletes_by_discipline.parquet\")\n",
        "\n",
        "# Завершаем сессию Spark\n",
        "spark.stop()"
      ],
      "metadata": {
        "id": "LWkKkLr90_5L"
      },
      "execution_count": null,
      "outputs": []
    },
    {
      "cell_type": "code",
      "source": [
        "#проверка\n",
        "spark = SparkSession.builder.appName(\"AthletesAnalysis\").getOrCreate()\n",
        "df = spark.read.format(\"parquet\").load(\"/content/athletes_by_discipline.parquet\")\n",
        "df.show()"
      ],
      "metadata": {
        "id": "x5k7SzKN2F3Z",
        "colab": {
          "base_uri": "https://localhost:8080/"
        },
        "outputId": "c3e5544f-904c-48ef-b439-afc474177752"
      },
      "execution_count": null,
      "outputs": [
        {
          "output_type": "stream",
          "name": "stdout",
          "text": [
            "+--------------------+-------------+\n",
            "|          Discipline|TotalAthletes|\n",
            "+--------------------+-------------+\n",
            "|              Tennis|          178|\n",
            "|              Boxing|          270|\n",
            "|   Marathon Swimming|           49|\n",
            "|                Golf|          115|\n",
            "|              Rowing|          496|\n",
            "|   Baseball/Softball|          220|\n",
            "|                Judo|          373|\n",
            "|             Sailing|          336|\n",
            "|            Swimming|          743|\n",
            "|Cycling BMX Frees...|           19|\n",
            "|          Basketball|          280|\n",
            "|            Handball|          343|\n",
            "| Rhythmic Gymnastics|           95|\n",
            "|              Karate|           77|\n",
            "|           Triathlon|          106|\n",
            "|           Badminton|          164|\n",
            "|        Canoe Sprint|          236|\n",
            "|           Athletics|         2068|\n",
            "|       Cycling Track|          208|\n",
            "|    Beach Volleyball|           90|\n",
            "+--------------------+-------------+\n",
            "only showing top 20 rows\n",
            "\n"
          ]
        }
      ]
    },
    {
      "cell_type": "code",
      "source": [
        "spark = SparkSession.builder.appName(\"NewAthletesAnalysis\").getOrCreate()\n",
        "\n",
        "athletes_df = spark.read.option(\"delimiter\", \";\").option(\"encoding\", \"UTF-8\").option(\"header\", \"true\").csv(\"/content/Athletes.csv\")\n",
        "\n",
        "TotalAthletes = df.groupBy(\"Discipline\").agg(count(\"*\").alias(\"TotalAthletes\"))\n",
        "\n",
        "my_athletes_df = spark.read.option(\"delimiter\", \"\\t\").option(\"encoding\", \"UTF-8\").option(\"header\", \"true\").csv(\"/content/1olympic_disciplines.csv\")\n",
        "\n",
        "final_result = my_athletes_df.join(TotalAthletes, my_athletes_df.discipline == TotalAthletes.Discipline, \"inner\").select(my_athletes_df[\"*\"], TotalAthletes[\"TotalAthletes\"])\n",
        "\n",
        "final_result.write.format(\"parquet\").save(\"/content/final_analytics.parquet\")\n",
        "\n",
        "spark.stop()"
      ],
      "metadata": {
        "id": "ZXFCDMWa3tdE"
      },
      "execution_count": null,
      "outputs": []
    },
    {
      "cell_type": "code",
      "source": [
        "#проверка\n",
        "spark = SparkSession.builder.appName(\"AthletesAnalysis\").getOrCreate()\n",
        "df = spark.read.format(\"parquet\").load(\"/content/final_analytics.parquet\")\n",
        "df.show()"
      ],
      "metadata": {
        "id": "1dX02Vha4rb-",
        "colab": {
          "base_uri": "https://localhost:8080/"
        },
        "outputId": "ca722c37-9c5a-4cb0-ff0c-92c5fc8443a4"
      },
      "execution_count": null,
      "outputs": [
        {
          "output_type": "stream",
          "name": "stdout",
          "text": [
            "+------+----------+------+-------------+\n",
            "|row_id|discipline|season|TotalAthletes|\n",
            "+------+----------+------+-------------+\n",
            "|     8|    Rowing|summer|            1|\n",
            "|     2|  Swimming|summer|            1|\n",
            "|    10|Basketball|summer|            1|\n",
            "|     1| Athletics|summer|            1|\n",
            "|     5|    Hockey|winter|            1|\n",
            "+------+----------+------+-------------+\n",
            "\n"
          ]
        }
      ]
    },
    {
      "cell_type": "code",
      "source": [
        "#проверка\n",
        "spark = SparkSession.builder.appName(\"OlympicDisciplines\").getOrCreate()\n",
        "df = spark.read.option(\"delimiter\", \";\").option(\"encoding\", \"UTF-8\").option(\"header\", \"true\").csv(\"/content/Athletes.csv\")\n",
        "df.show()"
      ],
      "metadata": {
        "id": "XL7Yt7Am4zFq"
      },
      "execution_count": null,
      "outputs": []
    }
  ]
}